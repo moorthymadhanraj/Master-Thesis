{
 "cells": [
  {
   "cell_type": "markdown",
   "id": "76303ee3",
   "metadata": {},
   "source": [
    "# Part 3 - Sentiment Analysis "
   ]
  },
  {
   "cell_type": "markdown",
   "id": "c67adbc6",
   "metadata": {},
   "source": [
    "# 1. Importing Libraries\n",
    "### 1.1 Libraries"
   ]
  },
  {
   "cell_type": "code",
   "execution_count": 1,
   "id": "3b776ad0",
   "metadata": {},
   "outputs": [],
   "source": [
    "#Library to Access Amazon\n",
    "import boto3\n",
    "\n",
    "# Library to provide data structures(dataframes)\n",
    "import pandas as pd\n",
    "import numpy as np"
   ]
  },
  {
   "cell_type": "markdown",
   "id": "adccfb04",
   "metadata": {},
   "source": [
    "### 1.2 Configuration"
   ]
  },
  {
   "cell_type": "code",
   "execution_count": 2,
   "id": "deccaa26",
   "metadata": {},
   "outputs": [],
   "source": [
    "# Importing Credentials from config file\n",
    "from configs import configs\n",
    "\n",
    "# Authentication Amazon Comprehend\n",
    "comprehend=boto3.client(\n",
    "                         service_name=\"comprehend\",  # Name of the Service\n",
    "                         region_name=\"us-east-2\", # region for the Service\n",
    "                         aws_access_key_id=configs[\"amazon_credentials\"][\"AWS_SERVER_PUBLIC_KEY\"], # Access Credentials\n",
    "                         aws_secret_access_key=configs[\"amazon_credentials\"][\"AWS_SERVER_SECRET_KEY\"] # Access Credentials\n",
    "                       )\n",
    "\n",
    "# Directory from pre-processing\n",
    "processed_tweet_df_path = \"../Data/processed_tweet_data.csv\" \n",
    "\n",
    "# Directory to store the new data with sentiments\n",
    "processed_tweet_df_path_with_sentiment = \"../Data/processed_tweet_df_path_with_sentiment.csv\""
   ]
  },
  {
   "cell_type": "markdown",
   "id": "e98f94c1",
   "metadata": {},
   "source": [
    "### 1.3 Loading Dataframe"
   ]
  },
  {
   "cell_type": "code",
   "execution_count": 3,
   "id": "282b5556",
   "metadata": {},
   "outputs": [],
   "source": [
    "# Loading the data to dataframe\n",
    "tweet_df = pd.read_csv(processed_tweet_df_path, index_col=False)"
   ]
  },
  {
   "cell_type": "code",
   "execution_count": 1,
   "id": "15dea4f3",
   "metadata": {},
   "outputs": [
    {
     "ename": "NameError",
     "evalue": "name 'tweet_df' is not defined",
     "output_type": "error",
     "traceback": [
      "\u001b[1;31m---------------------------------------------------------------------------\u001b[0m",
      "\u001b[1;31mNameError\u001b[0m                                 Traceback (most recent call last)",
      "\u001b[1;32m<ipython-input-1-7053b4ec7ab8>\u001b[0m in \u001b[0;36m<module>\u001b[1;34m\u001b[0m\n\u001b[0;32m      1\u001b[0m \u001b[1;31m#Nan\u001b[0m\u001b[1;33m\u001b[0m\u001b[1;33m\u001b[0m\u001b[1;33m\u001b[0m\u001b[0m\n\u001b[1;32m----> 2\u001b[1;33m \u001b[0mtweet_df\u001b[0m \u001b[1;33m=\u001b[0m \u001b[0mtweet_df\u001b[0m\u001b[1;33m[\u001b[0m\u001b[0mtweet_df\u001b[0m\u001b[1;33m[\u001b[0m\u001b[1;34m\"tweet\"\u001b[0m\u001b[1;33m]\u001b[0m\u001b[1;33m.\u001b[0m\u001b[0mnotna\u001b[0m\u001b[1;33m(\u001b[0m\u001b[1;33m)\u001b[0m\u001b[1;33m]\u001b[0m\u001b[1;33m\u001b[0m\u001b[1;33m\u001b[0m\u001b[0m\n\u001b[0m",
      "\u001b[1;31mNameError\u001b[0m: name 'tweet_df' is not defined"
     ]
    }
   ],
   "source": [
    "#Nan\n",
    "tweet_df = tweet_df[tweet_df[\"tweet\"].notna()]"
   ]
  },
  {
   "cell_type": "markdown",
   "id": "55813be0",
   "metadata": {},
   "source": [
    "## 2. Performing Sentiment Analysis\n",
    "### 2.1 Defining Functions"
   ]
  },
  {
   "cell_type": "code",
   "execution_count": 4,
   "id": "20ef99d1",
   "metadata": {},
   "outputs": [],
   "source": [
    "def apply_comprehend(tweet):\n",
    "    \n",
    "    \"\"\"\n",
    "    This function uses amazon comprehend to predict the sentiment behind the tweet.\n",
    "    \n",
    "    Parameter:\n",
    "    tweet: Each tweet.\n",
    "    \n",
    "    Return \"result\": A dictionary that contains the overall sentiment of the tweet, followed by the sentiment score under \n",
    "    Positive, Negative,Neutral, and mixed categories.    \n",
    "    \"\"\"\n",
    "    \n",
    "    try:\n",
    "            out=comprehend.detect_sentiment(\n",
    "                                             Text=tweet,\n",
    "                                             LanguageCode=\"en\"\n",
    "                                           )\n",
    "            #Dictionary\n",
    "            result = {\n",
    "                        \"Sentiment\": out[\"Sentiment\"],\n",
    "                        \"SentimentScore_Positive\": out[\"SentimentScore\"][\"Positive\"],\n",
    "                        \"SentimentScore_Negative\": out[\"SentimentScore\"][\"Negative\"],\n",
    "                        \"SentimentScore_Neutral\": out[\"SentimentScore\"][\"Neutral\"],\n",
    "                        \"SentimentScore_Mixed\": out[\"SentimentScore\"][\"Mixed\"]  \n",
    "                     }\n",
    "            \n",
    "            \n",
    "            \n",
    "    except Exception as e:\n",
    "        # Incase of an error arises, nan values are returned. (Dictionary)\n",
    "        result = {\n",
    "                    \"Sentiment\": np.nan,\n",
    "                    \"SentimentScore_Positive\": np.nan,\n",
    "                    \"SentimentScore_Negative\": np.nan,\n",
    "                    \"SentimentScore_Neutral\": np.nan,\n",
    "                    \"SentimentScore_Mixed\": np.nan \n",
    "                 }\n",
    "\n",
    "        print(f\"Exception: {e}\")\n",
    "            \n",
    "    return result"
   ]
  },
  {
   "cell_type": "markdown",
   "id": "0f8ba89e",
   "metadata": {},
   "source": [
    "### 2.2 Performing Sentiment Analysis"
   ]
  },
  {
   "cell_type": "code",
   "execution_count": 6,
   "id": "175045ae",
   "metadata": {
    "scrolled": false
   },
   "outputs": [
    {
     "name": "stdout",
     "output_type": "stream",
     "text": [
      "\n",
      "Total time = 718.1327052116394 s\n"
     ]
    }
   ],
   "source": [
    "#Time\n",
    "from time import time\n",
    "start_time = time()\n",
    "\n",
    "#Using dataframe.apply function to apply the apply_comprehend function on each and every row of the dataframe.\n",
    "#Storing the results into the dataframe under new columns.\n",
    "\n",
    "tweet_df_with_sentiment = tweet_df.merge(\n",
    "                                        tweet_df.tweet.apply(lambda x: (\n",
    "                                                                        sentiment_score := apply_comprehend(x),\n",
    "\n",
    "\n",
    "                                                                        pd.Series(\n",
    "                                                                                      {\n",
    "                                                                                       'Sentiment': sentiment_score[\"Sentiment\"],\n",
    "                                                                                       'SentimentScore_Positive': sentiment_score[\"SentimentScore_Positive\"],\n",
    "                                                                                       'SentimentScore_Negative': sentiment_score[\"SentimentScore_Negative\"],\n",
    "                                                                                       'SentimentScore_Neutral':sentiment_score[\"SentimentScore_Neutral\"],\n",
    "                                                                                       'SentimentScore_Mixed': sentiment_score[\"SentimentScore_Mixed\"],\n",
    "                                                                                      }\n",
    "                                                                                  )\n",
    "                                                                        )[-1]\n",
    "                                                            ), \n",
    "\n",
    "                                         left_index=True,\n",
    "                                         right_index=True\n",
    "                                    )\n",
    "\n",
    "#Time taken\n",
    "print(f\"\\nTotal time = {time() - start_time} s\")"
   ]
  },
  {
   "cell_type": "code",
   "execution_count": 7,
   "id": "c635f905",
   "metadata": {},
   "outputs": [],
   "source": [
    "# Adding index number \n",
    "tweet_df_with_sentiment.index.names = ['Index_number']"
   ]
  },
  {
   "cell_type": "code",
   "execution_count": 8,
   "id": "0ba088df",
   "metadata": {},
   "outputs": [
    {
     "data": {
      "text/plain": [
       "(4223, 14)"
      ]
     },
     "execution_count": 8,
     "metadata": {},
     "output_type": "execute_result"
    }
   ],
   "source": [
    "# Verifying the structure\n",
    "tweet_df_with_sentiment.shape"
   ]
  },
  {
   "cell_type": "markdown",
   "id": "05ed2d5a",
   "metadata": {},
   "source": [
    "### 2.3 Viewing Results"
   ]
  },
  {
   "cell_type": "code",
   "execution_count": 9,
   "id": "039c5e33",
   "metadata": {},
   "outputs": [
    {
     "data": {
      "text/html": [
       "<div>\n",
       "<style scoped>\n",
       "    .dataframe tbody tr th:only-of-type {\n",
       "        vertical-align: middle;\n",
       "    }\n",
       "\n",
       "    .dataframe tbody tr th {\n",
       "        vertical-align: top;\n",
       "    }\n",
       "\n",
       "    .dataframe thead th {\n",
       "        text-align: right;\n",
       "    }\n",
       "</style>\n",
       "<table border=\"1\" class=\"dataframe\">\n",
       "  <thead>\n",
       "    <tr style=\"text-align: right;\">\n",
       "      <th></th>\n",
       "      <th>tweet</th>\n",
       "      <th>date</th>\n",
       "      <th>author</th>\n",
       "      <th>hashtags</th>\n",
       "      <th>followers_count</th>\n",
       "      <th>friends_count</th>\n",
       "      <th>coordinates</th>\n",
       "      <th>retweet_count</th>\n",
       "      <th>favorite_count</th>\n",
       "      <th>Sentiment</th>\n",
       "      <th>SentimentScore_Positive</th>\n",
       "      <th>SentimentScore_Negative</th>\n",
       "      <th>SentimentScore_Neutral</th>\n",
       "      <th>SentimentScore_Mixed</th>\n",
       "    </tr>\n",
       "    <tr>\n",
       "      <th>Index_number</th>\n",
       "      <th></th>\n",
       "      <th></th>\n",
       "      <th></th>\n",
       "      <th></th>\n",
       "      <th></th>\n",
       "      <th></th>\n",
       "      <th></th>\n",
       "      <th></th>\n",
       "      <th></th>\n",
       "      <th></th>\n",
       "      <th></th>\n",
       "      <th></th>\n",
       "      <th></th>\n",
       "      <th></th>\n",
       "    </tr>\n",
       "  </thead>\n",
       "  <tbody>\n",
       "    <tr>\n",
       "      <th>1301</th>\n",
       "      <td>attent everyon mani peopl n't know space inves...</td>\n",
       "      <td>2022-02-22 11:40:28+00:00</td>\n",
       "      <td>tu_spark</td>\n",
       "      <td>[]</td>\n",
       "      <td>48</td>\n",
       "      <td>508</td>\n",
       "      <td>NaN</td>\n",
       "      <td>0</td>\n",
       "      <td>1</td>\n",
       "      <td>NEUTRAL</td>\n",
       "      <td>0.001148</td>\n",
       "      <td>0.002327</td>\n",
       "      <td>0.996476</td>\n",
       "      <td>0.000049</td>\n",
       "    </tr>\n",
       "    <tr>\n",
       "      <th>3580</th>\n",
       "      <td>help old ladi freez death enrich peopl destroy...</td>\n",
       "      <td>2022-02-22 10:52:29+00:00</td>\n",
       "      <td>BernhardSteinb4</td>\n",
       "      <td>[]</td>\n",
       "      <td>134</td>\n",
       "      <td>26</td>\n",
       "      <td>NaN</td>\n",
       "      <td>0</td>\n",
       "      <td>0</td>\n",
       "      <td>MIXED</td>\n",
       "      <td>0.008521</td>\n",
       "      <td>0.130838</td>\n",
       "      <td>0.384766</td>\n",
       "      <td>0.475875</td>\n",
       "    </tr>\n",
       "    <tr>\n",
       "      <th>2889</th>\n",
       "      <td>moon via /r/bitcoin</td>\n",
       "      <td>2022-02-22 11:05:35+00:00</td>\n",
       "      <td>btc_fan</td>\n",
       "      <td>[]</td>\n",
       "      <td>261</td>\n",
       "      <td>5</td>\n",
       "      <td>NaN</td>\n",
       "      <td>0</td>\n",
       "      <td>0</td>\n",
       "      <td>NEUTRAL</td>\n",
       "      <td>0.015457</td>\n",
       "      <td>0.014115</td>\n",
       "      <td>0.907606</td>\n",
       "      <td>0.062822</td>\n",
       "    </tr>\n",
       "    <tr>\n",
       "      <th>957</th>\n",
       "      <td>chri record old silk road bitcoin rap remix ho...</td>\n",
       "      <td>2022-02-22 11:48:17+00:00</td>\n",
       "      <td>EBTURKfx</td>\n",
       "      <td>['HODLGANG']</td>\n",
       "      <td>46</td>\n",
       "      <td>39</td>\n",
       "      <td>NaN</td>\n",
       "      <td>0</td>\n",
       "      <td>0</td>\n",
       "      <td>NEUTRAL</td>\n",
       "      <td>0.000629</td>\n",
       "      <td>0.000374</td>\n",
       "      <td>0.998975</td>\n",
       "      <td>0.000022</td>\n",
       "    </tr>\n",
       "    <tr>\n",
       "      <th>254</th>\n",
       "      <td>stockmarket babydog bitcoin</td>\n",
       "      <td>2022-02-22 12:02:08+00:00</td>\n",
       "      <td>deris_bo</td>\n",
       "      <td>['BabyDogeCoin', 'BabyDogeArmy', 'stockmarkets...</td>\n",
       "      <td>447</td>\n",
       "      <td>1074</td>\n",
       "      <td>NaN</td>\n",
       "      <td>1</td>\n",
       "      <td>3</td>\n",
       "      <td>NEUTRAL</td>\n",
       "      <td>0.000304</td>\n",
       "      <td>0.000531</td>\n",
       "      <td>0.999125</td>\n",
       "      <td>0.000040</td>\n",
       "    </tr>\n",
       "  </tbody>\n",
       "</table>\n",
       "</div>"
      ],
      "text/plain": [
       "                                                          tweet  \\\n",
       "Index_number                                                      \n",
       "1301          attent everyon mani peopl n't know space inves...   \n",
       "3580          help old ladi freez death enrich peopl destroy...   \n",
       "2889                                        moon via /r/bitcoin   \n",
       "957           chri record old silk road bitcoin rap remix ho...   \n",
       "254                                 stockmarket babydog bitcoin   \n",
       "\n",
       "                                   date           author  \\\n",
       "Index_number                                               \n",
       "1301          2022-02-22 11:40:28+00:00         tu_spark   \n",
       "3580          2022-02-22 10:52:29+00:00  BernhardSteinb4   \n",
       "2889          2022-02-22 11:05:35+00:00          btc_fan   \n",
       "957           2022-02-22 11:48:17+00:00         EBTURKfx   \n",
       "254           2022-02-22 12:02:08+00:00         deris_bo   \n",
       "\n",
       "                                                       hashtags  \\\n",
       "Index_number                                                      \n",
       "1301                                                         []   \n",
       "3580                                                         []   \n",
       "2889                                                         []   \n",
       "957                                                ['HODLGANG']   \n",
       "254           ['BabyDogeCoin', 'BabyDogeArmy', 'stockmarkets...   \n",
       "\n",
       "              followers_count  friends_count  coordinates  retweet_count  \\\n",
       "Index_number                                                               \n",
       "1301                       48            508          NaN              0   \n",
       "3580                      134             26          NaN              0   \n",
       "2889                      261              5          NaN              0   \n",
       "957                        46             39          NaN              0   \n",
       "254                       447           1074          NaN              1   \n",
       "\n",
       "              favorite_count Sentiment  SentimentScore_Positive  \\\n",
       "Index_number                                                      \n",
       "1301                       1   NEUTRAL                 0.001148   \n",
       "3580                       0     MIXED                 0.008521   \n",
       "2889                       0   NEUTRAL                 0.015457   \n",
       "957                        0   NEUTRAL                 0.000629   \n",
       "254                        3   NEUTRAL                 0.000304   \n",
       "\n",
       "              SentimentScore_Negative  SentimentScore_Neutral  \\\n",
       "Index_number                                                    \n",
       "1301                         0.002327                0.996476   \n",
       "3580                         0.130838                0.384766   \n",
       "2889                         0.014115                0.907606   \n",
       "957                          0.000374                0.998975   \n",
       "254                          0.000531                0.999125   \n",
       "\n",
       "              SentimentScore_Mixed  \n",
       "Index_number                        \n",
       "1301                      0.000049  \n",
       "3580                      0.475875  \n",
       "2889                      0.062822  \n",
       "957                       0.000022  \n",
       "254                       0.000040  "
      ]
     },
     "execution_count": 9,
     "metadata": {},
     "output_type": "execute_result"
    }
   ],
   "source": [
    "#Viewing the results\n",
    "tweet_df_with_sentiment.sample(5)"
   ]
  },
  {
   "cell_type": "markdown",
   "id": "62e771f7",
   "metadata": {},
   "source": [
    "## 3. Saving Dataframe"
   ]
  },
  {
   "cell_type": "code",
   "execution_count": 1,
   "id": "385a3bd0",
   "metadata": {},
   "outputs": [
    {
     "ename": "NameError",
     "evalue": "name 'tweet_df_with_sentiment' is not defined",
     "output_type": "error",
     "traceback": [
      "\u001b[1;31m---------------------------------------------------------------------------\u001b[0m",
      "\u001b[1;31mNameError\u001b[0m                                 Traceback (most recent call last)",
      "\u001b[1;32m<ipython-input-1-544848e626e8>\u001b[0m in \u001b[0;36m<module>\u001b[1;34m\u001b[0m\n\u001b[0;32m      1\u001b[0m \u001b[1;31m#Saving the dataframe to a CSV file.\u001b[0m\u001b[1;33m\u001b[0m\u001b[1;33m\u001b[0m\u001b[1;33m\u001b[0m\u001b[0m\n\u001b[1;32m----> 2\u001b[1;33m \u001b[0mtweet_df_with_sentiment\u001b[0m\u001b[1;33m.\u001b[0m\u001b[0mto_csv\u001b[0m\u001b[1;33m(\u001b[0m\u001b[0mprocessed_tweet_df_path_with_sentiment\u001b[0m\u001b[1;33m,\u001b[0m \u001b[0mindex\u001b[0m\u001b[1;33m=\u001b[0m\u001b[1;32mNone\u001b[0m\u001b[1;33m)\u001b[0m\u001b[1;33m\u001b[0m\u001b[1;33m\u001b[0m\u001b[0m\n\u001b[0m",
      "\u001b[1;31mNameError\u001b[0m: name 'tweet_df_with_sentiment' is not defined"
     ]
    }
   ],
   "source": [
    "#creating csv in the \"processed_tweet_df_path_with_sentiment\" path \n",
    "tweet_df_with_sentiment.to_csv(processed_tweet_df_path_with_sentiment, index=None)"
   ]
  }
 ],
 "metadata": {
  "kernelspec": {
   "display_name": "Python 3 (ipykernel)",
   "language": "python",
   "name": "python3"
  },
  "language_info": {
   "codemirror_mode": {
    "name": "ipython",
    "version": 3
   },
   "file_extension": ".py",
   "mimetype": "text/x-python",
   "name": "python",
   "nbconvert_exporter": "python",
   "pygments_lexer": "ipython3",
   "version": "3.9.12"
  }
 },
 "nbformat": 4,
 "nbformat_minor": 5
}
