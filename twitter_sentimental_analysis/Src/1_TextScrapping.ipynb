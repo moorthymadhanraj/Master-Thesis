{
 "cells": [
  {
   "cell_type": "markdown",
   "id": "c6df8f2d",
   "metadata": {},
   "source": [
    "# Part 1 - Scrapping Tweets"
   ]
  },
  {
   "cell_type": "markdown",
   "id": "43e7ef50",
   "metadata": {},
   "source": [
    "## 1. Importing Libraries\n",
    "### 1.1 Libraries"
   ]
  },
  {
   "cell_type": "code",
   "execution_count": 2,
   "id": "8223965a",
   "metadata": {},
   "outputs": [
    {
     "name": "stdout",
     "output_type": "stream",
     "text": [
      "Collecting tweepy\n",
      "  Downloading tweepy-4.14.0-py3-none-any.whl (98 kB)\n",
      "Collecting requests-oauthlib<2,>=1.2.0\n",
      "  Downloading requests_oauthlib-1.3.1-py2.py3-none-any.whl (23 kB)\n",
      "Requirement already satisfied: requests<3,>=2.27.0 in c:\\users\\neu\\anaconda3\\lib\\site-packages (from tweepy) (2.27.1)\n",
      "Collecting oauthlib<4,>=3.2.0\n",
      "  Downloading oauthlib-3.2.2-py3-none-any.whl (151 kB)\n",
      "Requirement already satisfied: charset-normalizer~=2.0.0 in c:\\users\\neu\\anaconda3\\lib\\site-packages (from requests<3,>=2.27.0->tweepy) (2.0.4)\n",
      "Requirement already satisfied: idna<4,>=2.5 in c:\\users\\neu\\anaconda3\\lib\\site-packages (from requests<3,>=2.27.0->tweepy) (3.3)\n",
      "Requirement already satisfied: certifi>=2017.4.17 in c:\\users\\neu\\anaconda3\\lib\\site-packages (from requests<3,>=2.27.0->tweepy) (2021.10.8)\n",
      "Requirement already satisfied: urllib3<1.27,>=1.21.1 in c:\\users\\neu\\anaconda3\\lib\\site-packages (from requests<3,>=2.27.0->tweepy) (1.26.9)\n",
      "Installing collected packages: oauthlib, requests-oauthlib, tweepy\n",
      "Successfully installed oauthlib-3.2.2 requests-oauthlib-1.3.1 tweepy-4.14.0\n",
      "Note: you may need to restart the kernel to use updated packages.\n"
     ]
    }
   ],
   "source": [
    "pip install tweepy"
   ]
  },
  {
   "cell_type": "code",
   "execution_count": 1,
   "id": "f1f4742f",
   "metadata": {},
   "outputs": [],
   "source": [
    "# Library to access tweets using twitter API\n",
    "import tweepy\n",
    "\n",
    "# Library to provide data structures(dataframes)\n",
    "import pandas as pd\n",
    "\n",
    "# Package for time taken\n",
    "from time import time \n",
    "\n",
    "#Libraries for console with widgets/progress bar\n",
    "import ipywidgets as widgets\n",
    "from tqdm.notebook import tqdm\n",
    "\n",
    "#pretty printing\n",
    "from pprint import pprint"
   ]
  },
  {
   "cell_type": "markdown",
   "id": "4ffccff1",
   "metadata": {},
   "source": [
    "### 1.2 Configurations"
   ]
  },
  {
   "cell_type": "code",
   "execution_count": 3,
   "id": "592502cb",
   "metadata": {},
   "outputs": [],
   "source": [
    "# Importing Credentials from config file\n",
    "from configs import configs\n",
    "\n",
    "#Directory to store the tweets data\n",
    "tweets_df_path = \"../Data/tweets_data.csv\""
   ]
  },
  {
   "cell_type": "markdown",
   "id": "1b16133c",
   "metadata": {},
   "source": [
    "## 2. Getting Tweets"
   ]
  },
  {
   "cell_type": "markdown",
   "id": "a22c2d1a",
   "metadata": {},
   "source": [
    "### 2.1 Setting up Twitter Credentials "
   ]
  },
  {
   "cell_type": "code",
   "execution_count": 4,
   "id": "0f621313",
   "metadata": {},
   "outputs": [],
   "source": [
    "# Accessing twitter using tweepy with keys and tokens\n",
    "auth = tweepy.OAuthHandler(\n",
    "                            configs[\"twitter_credentials\"][\"consumer_key\"],\n",
    "                            configs[\"twitter_credentials\"][\"consumer_secret\"]\n",
    "                          )\n",
    "\n",
    "auth.set_access_token(\n",
    "                        configs[\"twitter_credentials\"][\"access_token\"],\n",
    "                        configs[\"twitter_credentials\"][\"access_token_secret\"]\n",
    "                     )\n",
    "\n",
    "# Tweepy module to extract tweets\n",
    "api = tweepy.API(\n",
    "                    auth,\n",
    "                    wait_on_rate_limit=True\n",
    "                )"
   ]
  },
  {
   "cell_type": "markdown",
   "id": "454097f5",
   "metadata": {},
   "source": [
    "### 2.2 Scanning Tweets"
   ]
  },
  {
   "cell_type": "code",
   "execution_count": 5,
   "id": "ce24280a",
   "metadata": {},
   "outputs": [],
   "source": [
    "#Dictionary\n",
    "tweet_parameters = {}\n",
    "\n",
    "# Fetching tweets\n",
    "def pull_tweets(_):\n",
    "    \n",
    "    \"\"\" \n",
    "    This function scans for tweets based on the given parameters and stores it into the dataframe for further processing.\n",
    "\n",
    "    Output:\n",
    "    tweet_df: Dataframe that displays statsitcal information about the tweets and stores the tweets.\n",
    "    \"\"\"\n",
    "\n",
    "    #Creating a empty dataframe with headers\n",
    "    tweet_df = pd.DataFrame(\n",
    "                                columns=[\n",
    "                                            \"tweet\",\n",
    "                                            \"date\",\n",
    "                                            \"author\",\n",
    "                                            \"hashtags\",\n",
    "                                            \"followers_count\",\n",
    "                                            \"friends_count\",\n",
    "                                            \"coordinates\",\n",
    "                                            \"retweet_count\",\n",
    "                                            \"favorite_count\"\n",
    "                                        ]\n",
    "                           )\n",
    "    \n",
    "    \n",
    "    #Counting tweets\n",
    "    counter = 0\n",
    "    \n",
    "    # time taken\n",
    "    start_time = time()\n",
    "    \n",
    "    #Restricting with required elements from the raw data.\n",
    "    for tweet in tqdm(tweepy.Cursor(\n",
    "                                       api.search_tweets,\n",
    "                                       q = tweet_parameters[\"query_string\"] + ' -filter:retweets',\n",
    "                                       result_type ='recent',\n",
    "                                       lang='en',\n",
    "                                       tweet_mode='extended'\n",
    "                                   ).items(), total=tweet_parameters[\"tweet_count\"]):\n",
    "\n",
    "        \n",
    "        # Appending the names from JSON dictionary from twitter and assigning it to dataframe\n",
    "        tweet_df = tweet_df.append(\n",
    "                                    {\n",
    "                                        \"tweet\": tweet.full_text,\n",
    "                                        \"date\" : tweet.created_at,\n",
    "                                        \"author\": tweet.user.screen_name,\n",
    "                                        \"hashtags\": [hashtag['text'] for hashtag in tweet._json[\"entities\"][\"hashtags\"]],\n",
    "                                        \"followers_count\": tweet.user.followers_count,\n",
    "                                        \"friends_count\": tweet.user.friends_count,\n",
    "                                        \"retweet_count\": tweet.retweet_count,\n",
    "                                        \"favorite_count\": tweet.favorite_count\n",
    "                                        \n",
    "                                    }, ignore_index = True\n",
    "                                  )\n",
    "        \n",
    "        counter += 1\n",
    "        \n",
    "        # Condition to stop if Tweet count \n",
    "        if counter == tweet_parameters[\"tweet_count\"]:\n",
    "            break\n",
    "    #Calculating time      \n",
    "    total_time = time() - start_time\n",
    "    print(f\"{counter} tweets scraped in {total_time} seconds.\")\n",
    "    \n",
    "    # condition to check df empty or not - write to csv\n",
    "    if not tweet_df.empty:\n",
    "        tweet_df.to_csv(tweets_df_path, index=False)\n",
    "        print(\"Tweet Dataframe Exported with text.\")\n",
    "        \n",
    "    else:\n",
    "        print(\"Dataframe emtpy. No data to save!\")\n",
    "               \n",
    "     \n",
    "    \n",
    "def save_parameters(tweet_count, query_string):\n",
    "    \"\"\"\n",
    "    This function reads and saves the parameters for tweet extraction\n",
    "    Parameters:\n",
    "    tweet_count: The count of tweets to define/fetch\n",
    "    query_string: The string taken as input keyword.\n",
    "\n",
    "    \"\"\"\n",
    "    \n",
    "    global tweet_parameters\n",
    "    tweet_parameters[\"tweet_count\"] = tweet_count\n",
    "    tweet_parameters[\"query_string\"] = query_string"
   ]
  },
  {
   "cell_type": "markdown",
   "id": "d01e6664",
   "metadata": {},
   "source": [
    "### 2.3 Console / Controller"
   ]
  },
  {
   "cell_type": "code",
   "execution_count": 6,
   "id": "a3722f4f",
   "metadata": {
    "scrolled": false
   },
   "outputs": [
    {
     "data": {
      "application/vnd.jupyter.widget-view+json": {
       "model_id": "07319e04292f4f50bca455a185046623",
       "version_major": 2,
       "version_minor": 0
      },
      "text/plain": [
       "interactive(children=(IntSlider(value=10, description='Tweet Count', max=25000, step=50), Text(value='bitcoin'…"
      ]
     },
     "metadata": {},
     "output_type": "display_data"
    },
    {
     "data": {
      "application/vnd.jupyter.widget-view+json": {
       "model_id": "37be29e61d8743218316537d89547180",
       "version_major": 2,
       "version_minor": 0
      },
      "text/plain": [
       "Button(description='SCAN', style=ButtonStyle(), tooltip='Scan Tweets')"
      ]
     },
     "metadata": {},
     "output_type": "display_data"
    }
   ],
   "source": [
    "console = widgets.interactive(\n",
    "                            save_parameters,\n",
    "\n",
    "                            query_string = widgets.Text(\n",
    "                                                            value='bitcoin', # Default Value.\n",
    "                                                            description=\"Query String\"\n",
    "                                                        ),\n",
    "\n",
    "\n",
    "                            tweet_count = widgets.IntSlider(           \n",
    "                                                                min=0, # Minimum values for the slider\n",
    "                                                                max=25000, # Maximum value for the slider.\n",
    "                                                                step=50, # step size of an iteration on the slider, \n",
    "                                                                            #and the slider will increase in multiples of 1000.\n",
    "                                                                value=10, # Default Value.\n",
    "                                                                description=\"Tweet Count\"\n",
    "                                                           ),\n",
    "\n",
    "\n",
    "\n",
    "                         )\n",
    "\n",
    "\n",
    "# Console components\n",
    "button = widgets.Button(\n",
    "                        description='SCAN',\n",
    "                        tooltip='Scan Tweets'\n",
    "                   ) \n",
    "\n",
    "#Process & display\n",
    "button.on_click(pull_tweets) # Links the button to the function \n",
    "display(console) # Displays the console.\n",
    "display(button) # Displaying the button."
   ]
  }
 ],
 "metadata": {
  "kernelspec": {
   "display_name": "Python 3 (ipykernel)",
   "language": "python",
   "name": "python3"
  },
  "language_info": {
   "codemirror_mode": {
    "name": "ipython",
    "version": 3
   },
   "file_extension": ".py",
   "mimetype": "text/x-python",
   "name": "python",
   "nbconvert_exporter": "python",
   "pygments_lexer": "ipython3",
   "version": "3.9.12"
  }
 },
 "nbformat": 4,
 "nbformat_minor": 5
}
